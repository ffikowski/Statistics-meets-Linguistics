{
 "cells": [
  {
   "cell_type": "code",
   "execution_count": 1,
   "id": "6666b54e",
   "metadata": {},
   "outputs": [],
   "source": [
    "import numpy as np\n",
    "import pandas as pd\n",
    "import re\n",
    "import codecs\n",
    "import collections"
   ]
  },
  {
   "cell_type": "markdown",
   "id": "4933eae0",
   "metadata": {},
   "source": [
    "## First step: preprocessing the singaporean corpus data"
   ]
  },
  {
   "cell_type": "code",
   "execution_count": 70,
   "id": "1e206cb0",
   "metadata": {},
   "outputs": [],
   "source": [
    "S1A_sing = []\n",
    "\n",
    "for i in np.arange(1,101):\n",
    "    directory = 'C:/Users/felix/Documents/TU Dortmund/Statistics meets Linguistics/Project/ICE SINGAPORE/Corpus/S1A-'\n",
    "    if len(str(i)) == 1:\n",
    "        number = str(0)+ str(0)+str(i)+'.txt'\n",
    "    elif len(str(i)) == 2:\n",
    "        number = str(0)+str(i)+'.txt'\n",
    "    else:\n",
    "        number = str(i)+'.txt'\n",
    "    merged = directory + number\n",
    "    with open(merged, encoding='latin-1') as f:\n",
    "        file = f.readlines()\n",
    "    S1A_sing.append(file)"
   ]
  },
  {
   "cell_type": "code",
   "execution_count": 71,
   "id": "6cf70bef",
   "metadata": {},
   "outputs": [],
   "source": [
    "S2A_sing = []\n",
    "\n",
    "for i in np.arange(1,71):\n",
    "    directory = 'C:/Users/felix/Documents/TU Dortmund/Statistics meets Linguistics/Project/ICE SINGAPORE/Corpus/S2A-'\n",
    "    if len(str(i)) == 1:\n",
    "        number = str(0)+ str(0)+str(i)+'.txt'\n",
    "    elif len(str(i)) == 2:\n",
    "        number = str(0)+str(i)+'.txt'\n",
    "    else:\n",
    "        number = str(i)+'.txt'\n",
    "    merged = directory + number\n",
    "    with open(merged, encoding='latin-1') as f:\n",
    "        file = f.readlines()\n",
    "    S2A_sing.append(file)"
   ]
  },
  {
   "cell_type": "code",
   "execution_count": 72,
   "id": "fea29cc7",
   "metadata": {},
   "outputs": [],
   "source": [
    "S2B_sing = []\n",
    "\n",
    "for i in np.arange(1,51):\n",
    "    directory = 'C:/Users/felix/Documents/TU Dortmund/Statistics meets Linguistics/Project/ICE SINGAPORE/Corpus/S2B-'\n",
    "    if len(str(i)) == 1:\n",
    "        number = str(0)+ str(0)+str(i)+'.txt'\n",
    "    elif len(str(i)) == 2:\n",
    "        number = str(0)+str(i)+'.txt'\n",
    "    else:\n",
    "        number = str(i)+'.txt'\n",
    "    merged = directory + number\n",
    "    with open(merged, encoding='latin-1') as f:\n",
    "        file = f.readlines()\n",
    "    S2B_sing.append(file)"
   ]
  },
  {
   "cell_type": "code",
   "execution_count": 73,
   "id": "a80f3925",
   "metadata": {},
   "outputs": [],
   "source": [
    "S1B_sing = []\n",
    "\n",
    "for i in np.arange(1,81):\n",
    "    directory = 'C:/Users/felix/Documents/TU Dortmund/Statistics meets Linguistics/Project/ICE SINGAPORE/Corpus/S1B-'\n",
    "    if len(str(i)) == 1:\n",
    "        number = str(0)+ str(0)+str(i)+'.txt'\n",
    "    elif len(str(i)) == 2:\n",
    "        number = str(0)+str(i)+'.txt'\n",
    "    else:\n",
    "        number = str(i)+'.txt'\n",
    "    merged = directory + number\n",
    "    with open(merged, encoding='latin-1') as f:\n",
    "        file = f.readlines()\n",
    "    S1B_sing.append(file)"
   ]
  },
  {
   "cell_type": "code",
   "execution_count": 74,
   "id": "2f7f4a3f",
   "metadata": {},
   "outputs": [],
   "source": [
    "def preprocessing_linguistics_sing(corpus):\n",
    "    \"\"\"\n",
    "    purpose: The function extracts the spoken speech of each speaker in the corpus files\n",
    "    param:\n",
    "    -corpus: list of different conversations from an ICE corpus\n",
    "    out:\n",
    "    -a dataframe containing the conversation number, \n",
    "    the name of the speaker in the conversation file, \n",
    "    the number of tokens spoken by the speaker and his spoken content\n",
    "    \"\"\"\n",
    "    \n",
    "    corpus_merged = []\n",
    "\n",
    "    for i in np.arange(0,len(corpus)):\n",
    "        doc = ' '.join(corpus[i])\n",
    "        corpus_merged.append(doc)\n",
    "    \n",
    "    possible_speaker =  list(map(chr, range(ord('A'), ord('Z')+1)))\n",
    "\n",
    "    speaker = []\n",
    "    talk_by_speaker = []\n",
    "    talk_length = []\n",
    "    talk_nr = []\n",
    "\n",
    "    for n in np.arange(1,len(corpus_merged)):\n",
    "#         print(\"talk number\", n)\n",
    "        for i in possible_speaker:\n",
    "\n",
    "            regex_speaker = r'\\<\\$'+i+'\\>'\n",
    "            speaker_check = re.compile(regex_speaker)\n",
    "            search_speaker = speaker_check.search(corpus_merged[n])\n",
    "\n",
    "            if search_speaker != None:\n",
    "#                 print(search_speaker)\n",
    "                regex_content = r':'+i+'\\>\\n ([a-zA-Z0-9_ .\\'\\n]{1,})'\n",
    "                content = re.compile(regex_content)\n",
    "                mo = content.findall(corpus_merged[n])\n",
    "\n",
    "                regex_list = ['\\n ']\n",
    "                cleaned_talks = []\n",
    "\n",
    "                for j in np.arange(1,len(mo)):\n",
    "                    for regex_cleaner in regex_list:\n",
    "                        cleaned_talk = re.sub(regex_cleaner, '', mo[j], count=0, flags=0)\n",
    "                        cleaned_talks.append(cleaned_talk)\n",
    "#                 print(\"Anzahl der Geprächsbeteiligungen\",len(cleaned_talks))\n",
    "                talk_by_speaker.append(cleaned_talks)\n",
    "                speaker.append(search_speaker.group(0))\n",
    "                talk_length.append(len(cleaned_talk))\n",
    "                talk_nr.append(n)\n",
    "#                 print(\"Anzahl speaker\",len(talk_by_speaker))\n",
    "    corpus_df = pd.DataFrame(list(zip(talk_nr, speaker, talk_length,talk_by_speaker)),\n",
    "               columns =['Talk Number','Speaker', 'Talk Length', 'Content'])\n",
    "    return corpus_df\n"
   ]
  },
  {
   "cell_type": "code",
   "execution_count": 54,
   "id": "d3b7f6ec",
   "metadata": {},
   "outputs": [],
   "source": [
    "corpus_sing = preprocessing_linguistics_sing(S1A_sing)"
   ]
  },
  {
   "cell_type": "code",
   "execution_count": 75,
   "id": "6a2e48a5",
   "metadata": {},
   "outputs": [],
   "source": [
    "corpus_s1a_sing = preprocessing_linguistics(S1A_sing)\n",
    "corpus_s2a_sing = preprocessing_linguistics(S2A_sing)\n",
    "corpus_s1b_sing = preprocessing_linguistics(S1B_sing)\n",
    "corpus_s2b_sing = preprocessing_linguistics(S2B_sing)"
   ]
  },
  {
   "cell_type": "code",
   "execution_count": 76,
   "id": "867ee235",
   "metadata": {},
   "outputs": [],
   "source": [
    "corpus_sing = pd.concat([corpus_s1a_sing,corpus_s2a_sing,corpus_s1b_sing,corpus_s2b_sing])"
   ]
  },
  {
   "cell_type": "code",
   "execution_count": 77,
   "id": "dca28ce9",
   "metadata": {},
   "outputs": [],
   "source": [
    "corpus_sing['origin']=\"Singapore\""
   ]
  },
  {
   "cell_type": "markdown",
   "id": "db299ed1",
   "metadata": {},
   "source": [
    "## Second step: preprocessing the canadian corpus data"
   ]
  },
  {
   "cell_type": "code",
   "execution_count": 78,
   "id": "64702e11",
   "metadata": {},
   "outputs": [],
   "source": [
    "S1A_can = []\n",
    "\n",
    "for i in np.arange(1,101):\n",
    "    directory = 'C:/Users/felix/Documents/TU Dortmund/Statistics meets Linguistics/Project/ICE-CAN/Corpus/S1A-'\n",
    "    if len(str(i)) == 1:\n",
    "        number = str(0)+ str(0)+str(i)+'.txt'\n",
    "    elif len(str(i)) == 2:\n",
    "        number = str(0)+str(i)+'.txt'\n",
    "    else:\n",
    "        number = str(i)+'.txt'\n",
    "    merged = directory + number\n",
    "    with open(merged, encoding='latin-1') as f:\n",
    "        file = f.readlines()\n",
    "    S1A_can.append(file)"
   ]
  },
  {
   "cell_type": "code",
   "execution_count": 79,
   "id": "788394bb",
   "metadata": {},
   "outputs": [],
   "source": [
    "S2A_can = []\n",
    "\n",
    "for i in np.arange(1,71):\n",
    "    directory = 'C:/Users/felix/Documents/TU Dortmund/Statistics meets Linguistics/Project/ICE-CAN/Corpus/S2A-'\n",
    "    if len(str(i)) == 1:\n",
    "        number = str(0)+ str(0)+str(i)+'.txt'\n",
    "    elif len(str(i)) == 2:\n",
    "        number = str(0)+str(i)+'.txt'\n",
    "    else:\n",
    "        number = str(i)+'.txt'\n",
    "    merged = directory + number\n",
    "    with open(merged, encoding='latin-1') as f:\n",
    "        file = f.readlines()\n",
    "    S2A_can.append(file)"
   ]
  },
  {
   "cell_type": "code",
   "execution_count": 80,
   "id": "aa6a2602",
   "metadata": {},
   "outputs": [],
   "source": [
    "S2B_can = []\n",
    "\n",
    "for i in np.arange(1,51):\n",
    "    directory = 'C:/Users/felix/Documents/TU Dortmund/Statistics meets Linguistics/Project/ICE-CAN/Corpus/S2B-'\n",
    "    if len(str(i)) == 1:\n",
    "        number = str(0)+ str(0)+str(i)+'.txt'\n",
    "    elif len(str(i)) == 2:\n",
    "        number = str(0)+str(i)+'.txt'\n",
    "    else:\n",
    "        number = str(i)+'.txt'\n",
    "    merged = directory + number\n",
    "    with open(merged, encoding='latin-1') as f:\n",
    "        file = f.readlines()\n",
    "    S2B_can.append(file)"
   ]
  },
  {
   "cell_type": "code",
   "execution_count": 81,
   "id": "feb87761",
   "metadata": {},
   "outputs": [],
   "source": [
    "S1B_can = []\n",
    "\n",
    "for i in np.arange(1,81):\n",
    "    directory = 'C:/Users/felix/Documents/TU Dortmund/Statistics meets Linguistics/Project/ICE-CAN/Corpus/S1B-'\n",
    "    if len(str(i)) == 1:\n",
    "        number = str(0)+ str(0)+str(i)+'.txt'\n",
    "    elif len(str(i)) == 2:\n",
    "        number = str(0)+str(i)+'.txt'\n",
    "    else:\n",
    "        number = str(i)+'.txt'\n",
    "    merged = directory + number\n",
    "    with open(merged, encoding='latin-1') as f:\n",
    "        file = f.readlines()\n",
    "    S1B_can.append(file)"
   ]
  },
  {
   "cell_type": "code",
   "execution_count": 85,
   "id": "c9c9720f",
   "metadata": {},
   "outputs": [],
   "source": [
    "def preprocessing_linguistics_can(corpus):\n",
    "    \"\"\"\n",
    "    purpose: The function extracts the spoken speech of each speaker in the corpus files\n",
    "    param:\n",
    "    -corpus: list of different conversations from an ICE corpus\n",
    "    out:\n",
    "    -a dataframe containing the conversation number, \n",
    "    the name of the speaker in the conversation file, \n",
    "    the number of tokens spoken by the speaker and his spoken content\n",
    "    \"\"\"  \n",
    "    corpus_merged = []\n",
    "\n",
    "    for i in np.arange(0,len(corpus)):\n",
    "        doc = ' '.join(corpus[i])\n",
    "        corpus_merged.append(doc)\n",
    "        \n",
    "    possible_speaker =  list(map(chr, range(ord('A'), ord('Z')+1)))\n",
    "\n",
    "    speaker = []\n",
    "    talk_by_speaker = []\n",
    "    talk_length = []\n",
    "    talk_nr = []\n",
    "\n",
    "    for n in np.arange(0,len(corpus_merged)):\n",
    "#         print(\"talk number\", n)\n",
    "        for i in possible_speaker:\n",
    "\n",
    "            regex_speaker = r'\\<\\$'+i+'\\>'\n",
    "            speaker_check = re.compile(regex_speaker)\n",
    "            search_speaker = speaker_check.search(corpus_merged[n])\n",
    "\n",
    "            if search_speaker != None:\n",
    "#                 print(search_speaker)\n",
    "                regex_content = r':'+i+'\\> (([a-zA-Z0-9_ .\\'\\n]{1,})|((<\\S>)|(<\\S[^A-Z]>)|(<unclear>)|(<\\Sunclear>))){1,}'\n",
    "                content = re.compile(regex_content)\n",
    "                mo = content.findall(corpus_merged[n])\n",
    "#                 print(mo[0][0])\n",
    "                regex_list = ['\\n ']\n",
    "                cleaned_talks = []\n",
    "\n",
    "                for j in np.arange(0,len(mo)):\n",
    "#                     print(mo[j])\n",
    "                    mo_joined_tuple = [''.join(tups) for tups in mo[j]]\n",
    "#                     print(mo_joined_tuple)\n",
    "                    mo_string = ''.join([mo_joined_tuple[i] for i in range(1, len(mo_joined_tuple), 2)])\n",
    "#                     print(mo_string)\n",
    "                    for regex_cleaner in regex_list:\n",
    "                        cleaned_talk = re.sub(regex_cleaner, '', mo_string, count=0, flags=0)\n",
    "                        cleaned_talk=re.sub('[^\\w\\s]','',cleaned_talk)\n",
    "                        cleaned_talks.append(cleaned_talk)\n",
    "#                 print(\"Anzahl der Geprächsbeteiligungen\",len(cleaned_talks))\n",
    "                talk_by_speaker.append(cleaned_talks)\n",
    "                speaker.append(search_speaker.group(0))\n",
    "                talk_length.append(len(cleaned_talk))\n",
    "                talk_nr.append(n)\n",
    "#                 print(\"Anzahl speaker\",len(talk_by_speaker))\n",
    "    corpus_df = pd.DataFrame(list(zip(talk_nr, speaker, talk_length,talk_by_speaker)),\n",
    "               columns =['Talk Number','Speaker', 'Talk Length', 'Content'])\n",
    "#     print(talk_by_speaker[0])\n",
    "    return corpus_df\n"
   ]
  },
  {
   "cell_type": "code",
   "execution_count": 88,
   "id": "a086b149",
   "metadata": {},
   "outputs": [],
   "source": [
    "corpus_s1a_can = preprocessing_linguistics_can(S1A_can)\n",
    "corpus_s2a_can = preprocessing_linguistics_can(S2A_can)\n",
    "corpus_s1b_can = preprocessing_linguistics_can(S1B_can)\n",
    "corpus_s2b_can = preprocessing_linguistics_can(S2B_can)"
   ]
  },
  {
   "cell_type": "code",
   "execution_count": 89,
   "id": "2d177744",
   "metadata": {},
   "outputs": [],
   "source": [
    "corpus_can = pd.concat([corpus_s1a_can,corpus_s2a_can,corpus_s1b_can,corpus_s2b_can])"
   ]
  },
  {
   "cell_type": "code",
   "execution_count": 90,
   "id": "0ab3c664",
   "metadata": {},
   "outputs": [],
   "source": [
    "corpus_can['origin']=\"Canada\""
   ]
  },
  {
   "cell_type": "markdown",
   "id": "d13117a7",
   "metadata": {},
   "source": [
    "## Third step: Merging the Singaporean and Canadian data frames"
   ]
  },
  {
   "cell_type": "code",
   "execution_count": 91,
   "id": "f4f6be4c",
   "metadata": {},
   "outputs": [],
   "source": [
    "corpus_df = pd.concat([corpus_sing, corpus_can])"
   ]
  },
  {
   "cell_type": "code",
   "execution_count": 92,
   "id": "a7f90572",
   "metadata": {},
   "outputs": [],
   "source": [
    "corpus_df[\"content_merged\"] = corpus_df[\"Content\"].apply(lambda x: \" \".join(x))"
   ]
  },
  {
   "cell_type": "markdown",
   "id": "0635e67c",
   "metadata": {},
   "source": [
    "## Fourth step: Solving the classification task"
   ]
  },
  {
   "cell_type": "code",
   "execution_count": 93,
   "id": "72cae5bc",
   "metadata": {},
   "outputs": [],
   "source": [
    "from sklearn.model_selection import train_test_split\n",
    "from sklearn.feature_extraction.text import TfidfVectorizer\n",
    "from sklearn.svm import LinearSVC\n",
    "from sklearn.metrics import classification_report"
   ]
  },
  {
   "cell_type": "code",
   "execution_count": 94,
   "id": "2785cf17",
   "metadata": {},
   "outputs": [],
   "source": [
    "X_train, X_test, y_train, y_test = train_test_split(corpus_df['content_merged'], corpus_df['origin'], test_size=0.33, random_state=42)"
   ]
  },
  {
   "cell_type": "code",
   "execution_count": 95,
   "id": "2280e449",
   "metadata": {},
   "outputs": [],
   "source": [
    "vectorizer = TfidfVectorizer()\n",
    "X_train_tfidf = vectorizer.fit_transform(X_train)\n",
    "X_test_tfidf = vectorizer.transform(X_test)"
   ]
  },
  {
   "cell_type": "code",
   "execution_count": 96,
   "id": "0971e27a",
   "metadata": {},
   "outputs": [],
   "source": [
    "clf = LinearSVC()\n",
    "clf.fit(X_train_tfidf, y_train, sample_weight=None)\n",
    "\n",
    "y_pred = clf.predict(X_test_tfidf)"
   ]
  },
  {
   "cell_type": "code",
   "execution_count": 97,
   "id": "1071bbee",
   "metadata": {},
   "outputs": [
    {
     "name": "stdout",
     "output_type": "stream",
     "text": [
      "              precision    recall  f1-score   support\n",
      "\n",
      "      Canada       1.00      0.92      0.96       265\n",
      "   Singapore       0.93      1.00      0.96       281\n",
      "\n",
      "    accuracy                           0.96       546\n",
      "   macro avg       0.96      0.96      0.96       546\n",
      "weighted avg       0.96      0.96      0.96       546\n",
      "\n"
     ]
    }
   ],
   "source": [
    "print(classification_report(y_test, y_pred))"
   ]
  },
  {
   "cell_type": "code",
   "execution_count": null,
   "id": "8a2f26ce",
   "metadata": {},
   "outputs": [],
   "source": []
  }
 ],
 "metadata": {
  "kernelspec": {
   "display_name": "Python 3 (ipykernel)",
   "language": "python",
   "name": "python3"
  },
  "language_info": {
   "codemirror_mode": {
    "name": "ipython",
    "version": 3
   },
   "file_extension": ".py",
   "mimetype": "text/x-python",
   "name": "python",
   "nbconvert_exporter": "python",
   "pygments_lexer": "ipython3",
   "version": "3.9.7"
  }
 },
 "nbformat": 4,
 "nbformat_minor": 5
}
